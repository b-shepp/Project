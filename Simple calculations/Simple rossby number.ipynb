{
 "cells": [
  {
   "cell_type": "markdown",
   "id": "e7342e11-1d1c-407b-8b97-7ae608569fc7",
   "metadata": {},
   "source": [
    "# Simple calculations of the Rossby number\n",
    "\n",
    "This will be an attempt to calculate the rossby number of a star across its radius for varius rotation rates."
   ]
  },
  {
   "cell_type": "code",
   "execution_count": 2,
   "id": "65f0764b-90ff-4353-8e3e-c3cdfebac086",
   "metadata": {},
   "outputs": [],
   "source": [
    "import numpy as np\n",
    "import scipy.constants as sc\n",
    "import astropy.constants as ac\n",
    "import astropy.units as u\n",
    "import matplotlib.pyplot as plt"
   ]
  },
  {
   "cell_type": "code",
   "execution_count": null,
   "id": "f354104c-49c1-41fb-8a54-5b2e0b9b551e",
   "metadata": {},
   "outputs": [],
   "source": []
  },
  {
   "cell_type": "markdown",
   "id": "9dc76518-1a9b-4398-894e-750ec34b7852",
   "metadata": {},
   "source": [
    "### $ R_o = {{u \\cdot \\nabla u} \\over { 2 \\Omega \\times u}}$\n",
    "simplifying to $ R_o ={u \\over {2 \\Omega L }}$\n",
    "and $ u \\propto \\bigl( {{F(r)} \\over {\\rho(r)}} \\bigr) ^{1/3} $ where L is relavent length scale and \n",
    "$ F = {{Luminosity} \\over {4 \\pi r^2}} $"
   ]
  },
  {
   "cell_type": "code",
   "execution_count": 4,
   "id": "fd0a9921-4772-480b-ab69-f3a8e4bd19a2",
   "metadata": {},
   "outputs": [],
   "source": [
    "def Ross(velocity, omega, length):\n",
    "    \"\"\"Calculating a rossby number. Using the simplified eq\"\"\"\n",
    "    Ro = velocity / (2 * omega * length)\n",
    "    return Ro"
   ]
  },
  {
   "cell_type": "code",
   "execution_count": 5,
   "id": "03d3d8ed-a97b-43e1-b9aa-8f14f7344f5f",
   "metadata": {},
   "outputs": [],
   "source": [
    "def Velo( F,den):\n",
    "    u = (F/den)**(1/3)\n",
    "    return u"
   ]
  },
  {
   "cell_type": "markdown",
   "id": "8ec9e218-b9a9-40c2-a134-795310398c1c",
   "metadata": {},
   "source": [
    "Test numbers"
   ]
  },
  {
   "cell_type": "markdown",
   "id": "50d45740-74f4-49cd-919c-470cd1429246",
   "metadata": {},
   "source": [
    "### Importing data\n",
    "file contains radius, speed of sound, density, pressure, gamma, temperature"
   ]
  },
  {
   "cell_type": "code",
   "execution_count": 8,
   "id": "73f6e870-f367-4e11-a097-140203639676",
   "metadata": {},
   "outputs": [],
   "source": [
    "infilename = 'modelS_cptrho.l5bi.d.15c.txt' #limited set of vars, easy to parse\n",
    "data = np.genfromtxt(infilename, unpack=True)\n",
    "# if using simple-format file:\n",
    "radius = data[0]\n",
    "cs = data[1]\n",
    "rho = data[2]\n",
    "pressure = data[3]\n",
    "gamma_1 = data[4]\n",
    "temperature = data[5]"
   ]
  },
  {
   "cell_type": "code",
   "execution_count": 9,
   "id": "211819ee-6557-4025-af4c-def3fe018a48",
   "metadata": {},
   "outputs": [
    {
     "data": {
      "text/plain": [
       "2482"
      ]
     },
     "execution_count": 9,
     "metadata": {},
     "output_type": "execute_result"
    }
   ],
   "source": [
    "len(rho)"
   ]
  },
  {
   "cell_type": "markdown",
   "id": "f72d006f-4eb5-4a10-a922-2e724f5bd0c8",
   "metadata": {},
   "source": [
    "using 0.75 R_sun for flux radius as lfux will drop off from core. and core is roughly 2% of radius\n",
    "\n",
    "25 day rotaion period is roughly 450nHz"
   ]
  },
  {
   "cell_type": "code",
   "execution_count": 11,
   "id": "38a588fd-5409-449b-9ccd-3189c5ab1621",
   "metadata": {},
   "outputs": [
    {
     "data": {
      "text/plain": [
       "1.0007126"
      ]
     },
     "execution_count": 11,
     "metadata": {},
     "output_type": "execute_result"
    }
   ],
   "source": [
    "radius[0]"
   ]
  },
  {
   "cell_type": "code",
   "execution_count": 12,
   "id": "285ef579-bbd2-4230-acbe-121e998cbaf0",
   "metadata": {},
   "outputs": [
    {
     "name": "stdout",
     "output_type": "stream",
     "text": [
      "2482\n"
     ]
    },
    {
     "name": "stderr",
     "output_type": "stream",
     "text": [
      "C:\\Users\\bensh\\AppData\\Local\\Temp\\ipykernel_24856\\3742182133.py:13: RuntimeWarning: divide by zero encountered in divide\n",
      "  flux = Luminosity / ( 4* np.pi * np.power((0.80*rad),2))\n"
     ]
    }
   ],
   "source": [
    "rot1 = 450e-9\n",
    "rot2 = 900e-9\n",
    "rot3 = 225e-9\n",
    "rot4 = 100e-9\n",
    "\n",
    "leng = 6.96e8 *0.3\n",
    "Luminosity = 3.83e26 \n",
    "Mass = 1.99e30\n",
    "print(len(rho))\n",
    "rad = radius * 6.96e8\n",
    "density = rho * 1000     #multiply by 1000 to convert to SI\n",
    "#print(int(np.floor(len(rad)*0.8)))\n",
    "flux = Luminosity / ( 4* np.pi * np.power((0.80*rad),2))"
   ]
  },
  {
   "cell_type": "markdown",
   "id": "ce1d181b-b069-4ec2-96ae-70aceb849ca7",
   "metadata": {},
   "source": []
  },
  {
   "cell_type": "markdown",
   "id": "c48baee3-603e-4fb4-bd59-f5dd0a955db2",
   "metadata": {},
   "source": []
  },
  {
   "cell_type": "markdown",
   "id": "c685ad14-24de-4d22-bfc1-c45bc56f39b5",
   "metadata": {},
   "source": [
    "##### Flipping the flux as radius and density run from surface to core. Brings it inline with these."
   ]
  },
  {
   "cell_type": "code",
   "execution_count": 16,
   "id": "53b475ea-b0cc-4d55-a8ec-62cf7fc024d1",
   "metadata": {},
   "outputs": [],
   "source": [
    "flux = np.flip(flux)"
   ]
  },
  {
   "cell_type": "code",
   "execution_count": null,
   "id": "b9b10cc5-6137-4dcc-859e-2d8e007ff74c",
   "metadata": {},
   "outputs": [],
   "source": []
  },
  {
   "cell_type": "code",
   "execution_count": null,
   "id": "cf54d0c1-c9de-45f1-892d-37f390e6858a",
   "metadata": {},
   "outputs": [],
   "source": []
  },
  {
   "cell_type": "markdown",
   "id": "7f8af197-d6d3-406d-a689-3ba10aa5e3ca",
   "metadata": {},
   "source": [
    "##### going to remove the inner 20% of the radius data points so that the flux begins at the edge of fusion. will also have to remove the outer 20% of flux data.\n",
    "\n",
    "Done by creating new arrays and assinging the value to it one by one. Since the arrays run surface to \"core\" you can assign them one by one until about 80% of the way through then stop. thus avoiding the \"core\""
   ]
  },
  {
   "cell_type": "code",
   "execution_count": 18,
   "id": "8ece2c9e-6536-44f7-802f-f4b7d91f8ac6",
   "metadata": {
    "scrolled": true
   },
   "outputs": [],
   "source": [
    "#print(len(flux))\n",
    "#print(flux)\n",
    "\n",
    "outer_rad = []\n",
    "outer_flux = []\n",
    "outer_density = []\n",
    "\n",
    "for i in range((int(np.floor(len(rad)*0.8)))):\n",
    "   \n",
    "    outer_rad.append(radius[i])\n",
    "    outer_flux.append(flux[i])\n",
    "    outer_density.append(density[i])\n",
    "    #print(i)\n",
    "\n",
    "\n",
    "outer_rad = np.array(outer_rad)\n",
    "outer_flux = np.array(outer_flux)\n",
    "outer_density = np.array(outer_density)\n",
    "\n",
    "#print(len(outer_flux))\n",
    "#print(outer_flux)"
   ]
  },
  {
   "cell_type": "code",
   "execution_count": 19,
   "id": "6274b727-a1d0-4348-bd83-97ce91aec3ea",
   "metadata": {},
   "outputs": [
    {
     "name": "stdout",
     "output_type": "stream",
     "text": [
      "[1.0007126 1.0007047 1.0006968 ... 0.1778957 0.1770875 0.1762817]\n"
     ]
    }
   ],
   "source": [
    "print(outer_rad)"
   ]
  },
  {
   "cell_type": "markdown",
   "id": "152e7a3a-8908-496d-967d-c60ce962b11c",
   "metadata": {},
   "source": [
    "print(rad)"
   ]
  },
  {
   "cell_type": "code",
   "execution_count": 21,
   "id": "522cd405-c666-4264-8088-9e0b32cc973c",
   "metadata": {},
   "outputs": [
    {
     "data": {
      "text/plain": [
       "[<matplotlib.lines.Line2D at 0x22a50f13e90>]"
      ]
     },
     "execution_count": 21,
     "metadata": {},
     "output_type": "execute_result"
    },
    {
     "data": {
      "image/png": "[encoded data removed]",
      "text/plain": [
       "<Figure size 640x480 with 1 Axes>"
      ]
     },
     "metadata": {},
     "output_type": "display_data"
    }
   ],
   "source": [
    "fig2 = plt.figure()\n",
    "ax2 = fig2.add_subplot()\n",
    "ax2.plot(outer_rad)"
   ]
  },
  {
   "cell_type": "code",
   "execution_count": 22,
   "id": "f6392406-6030-4c95-b809-5f2f38bf879d",
   "metadata": {},
   "outputs": [
    {
     "data": {
      "text/plain": [
       "Text(0, 0.5, 'F')"
      ]
     },
     "execution_count": 22,
     "metadata": {},
     "output_type": "execute_result"
    },
    {
     "data": {
      "image/png": "[encoded data removed]",
      "text/plain": [
       "<Figure size 640x480 with 1 Axes>"
      ]
     },
     "metadata": {},
     "output_type": "display_data"
    }
   ],
   "source": [
    "fig1 = plt.figure()\n",
    "ax1 = fig1.add_subplot()\n",
    "ax1.plot(outer_rad, outer_flux, linestyle = \" \", marker = \"x\", color = \"red\")\n",
    "ax1.set_xlabel(\"r\")\n",
    "ax1.set_ylabel(\"F\")\n",
    "#ax1.set_yscale('log')\n",
    "#ax1.set_xlim(0.5*Radius,)\n",
    "#ax1.set_ylim(0,1e9)\n",
    "#ax1.legend()\n",
    "#fig1.suptitle(\"Insert title\", fontsize = \"15\")"
   ]
  },
  {
   "cell_type": "code",
   "execution_count": 23,
   "id": "b30516e9-481b-4eef-a305-3b8199d12fd9",
   "metadata": {},
   "outputs": [
    {
     "data": {
      "image/png": "[encoded data removed]",
      "text/plain": [
       "<Figure size 640x480 with 1 Axes>"
      ]
     },
     "execution_count": 23,
     "metadata": {},
     "output_type": "execute_result"
    }
   ],
   "source": [
    "#ax1.set_xlim(0.5*Radius,)\n",
    "#ax1.set_ylim(0,1e9)\n",
    "fig1"
   ]
  },
  {
   "cell_type": "code",
   "execution_count": 24,
   "id": "401bbeb6-3162-420b-bd38-0af24730ecc4",
   "metadata": {},
   "outputs": [
    {
     "data": {
      "image/png": "[encoded data removed]",
      "text/plain": [
       "<Figure size 640x480 with 1 Axes>"
      ]
     },
     "execution_count": 24,
     "metadata": {},
     "output_type": "execute_result"
    }
   ],
   "source": [
    "#ax1.set_xlim(0,7.5e8)\n",
    "#ax1.set_ylim(1e7,1e13)\n",
    "ax1.set_yscale('log')\n",
    "fig1"
   ]
  },
  {
   "cell_type": "markdown",
   "id": "378eccb2-8796-4b06-9f2b-19744352fd19",
   "metadata": {},
   "source": [
    "##### Calcluating velocity\n",
    "\n",
    "with $ u \\propto \\bigl( {{F(r)} \\over {\\rho(r)}} \\bigr) ^{1/3} $ "
   ]
  },
  {
   "cell_type": "code",
   "execution_count": 26,
   "id": "a9b53373-5d7c-426c-9441-7284adac4954",
   "metadata": {},
   "outputs": [],
   "source": [
    "vel = Velo(outer_flux, outer_density)"
   ]
  },
  {
   "cell_type": "markdown",
   "id": "7b847cf0-3a6f-4dc5-9b91-06dc5bd076fd",
   "metadata": {},
   "source": [
    "##### Claulcating rossby number with $ R_o ={u \\over {2 \\Omega L }}$"
   ]
  },
  {
   "cell_type": "code",
   "execution_count": 28,
   "id": "6d37366a-7904-454e-a9a0-b59828a85f5a",
   "metadata": {},
   "outputs": [],
   "source": [
    "rossby_number1 = Ross(vel, rot1, leng)\n",
    "rossby_number2 = Ross(vel, rot2, leng)\n",
    "rossby_number3 = Ross(vel, rot3, leng)\n",
    "rossby_number4 = Ross(vel, rot4, leng)"
   ]
  },
  {
   "cell_type": "code",
   "execution_count": null,
   "id": "44669a8c-3e86-4266-9a8b-27a3c45f256c",
   "metadata": {},
   "outputs": [],
   "source": []
  },
  {
   "cell_type": "code",
   "execution_count": 29,
   "id": "159f41bd-d932-4557-869b-5a472c5613ee",
   "metadata": {},
   "outputs": [
    {
     "data": {
      "text/plain": [
       "Text(0.5, 0.98, 'Rossby nuumber for constant rotation')"
      ]
     },
     "execution_count": 29,
     "metadata": {},
     "output_type": "execute_result"
    },
    {
     "data": {
      "image/png": "[encoded data removed]",
      "text/plain": [
       "<Figure size 640x480 with 1 Axes>"
      ]
     },
     "metadata": {},
     "output_type": "display_data"
    }
   ],
   "source": [
    "fig = plt.figure()\n",
    "ax = fig.add_subplot()\n",
    "ax.plot(outer_rad, rossby_number1, linestyle = \" \", marker = \"x\", label = \"450nHz sun\", color = \"green\", markersize = 1)\n",
    "ax.plot(outer_rad, rossby_number2, linestyle = \" \", marker = \"x\", label = \"900nHz\", color = \"blue\", markersize = 1)\n",
    "ax.plot(outer_rad, rossby_number3, linestyle = \" \", marker = \"x\", label = \"225nHz\", color = \"orange\", markersize = 1)\n",
    "ax.plot(outer_rad, rossby_number4, linestyle = \" \", marker = \"x\", label = \"200nHz\", color = \"black\", markersize = 1)\n",
    "ax.set_xlabel(\"r\")\n",
    "ax.set_ylabel(\"Ro\")\n",
    "#ax.set_xticks(np.arange(0,8e8,0.5e8))\n",
    "#ax.set_yticks(np.arange(0, 5, 0.2))\n",
    "#ax.set_ylim(0,5)\n",
    "\n",
    "ax.set_yscale('log')\n",
    "ax.legend()\n",
    "ax.grid()\n",
    "fig.suptitle(\"Rossby nuumber for constant rotation\", fontsize = \"15\")"
   ]
  },
  {
   "cell_type": "markdown",
   "id": "d5caaf5d-cb92-4beb-b150-1400d4b763ef",
   "metadata": {},
   "source": [
    "#ax.set_xlim(0.5*Radius,)\n",
    "#ax.set_ylim(0,4)\n",
    "#ax.set_xticks(np.arange(3e8,8e8,0.5e8))\n",
    "#ax.set_yticks(np.arange(0,0.25,20))\n",
    "ax.grid()\n",
    "fig"
   ]
  }
 ],
 "metadata": {
  "kernelspec": {
   "display_name": "Python [conda env:base] *",
   "language": "python",
   "name": "conda-base-py"
  },
  "language_info": {
   "codemirror_mode": {
    "name": "ipython",
    "version": 3
   },
   "file_extension": ".py",
   "mimetype": "text/x-python",
   "name": "python",
   "nbconvert_exporter": "python",
   "pygments_lexer": "ipython3",
   "version": "3.11.3"
  }
 },
 "nbformat": 4,
 "nbformat_minor": 5
}
