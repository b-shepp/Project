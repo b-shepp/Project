{
 "cells": [
  {
   "cell_type": "markdown",
   "id": "0a45e838-5b67-4b49-b3df-1d6ca226d987",
   "metadata": {},
   "source": [
    "# Will use the data files from MESA web to produce desnity profiles of the stars"
   ]
  },
  {
   "cell_type": "code",
   "execution_count": 1,
   "id": "23386e0c-a4a8-4902-9ac2-8f3480ba9b82",
   "metadata": {},
   "outputs": [],
   "source": [
    "import numpy as np\n",
    "import matplotlib.pyplot as plt\n",
    "from pathlib import Path\n",
    "import glob\n",
    "import posixpath\n",
    "from astropy.table import Table"
   ]
  },
  {
   "cell_type": "code",
   "execution_count": 2,
   "id": "8e370ed1-fca4-4584-84b1-9b500d49717a",
   "metadata": {},
   "outputs": [],
   "source": [
    "#pip install mesa_reader"
   ]
  },
  {
   "cell_type": "markdown",
   "id": "eaa6dae3-a7b8-413b-a022-d52b1837e59b",
   "metadata": {},
   "source": [
    "#### ceatong the path to the directory of the profiles"
   ]
  },
  {
   "cell_type": "code",
   "execution_count": 3,
   "id": "c9f96e97-3dbc-4211-9dbd-e3713f2d638b",
   "metadata": {},
   "outputs": [],
   "source": [
    "maindir = Path(\"/home/ben2121/Lane emden/\")\n",
    "workingdir = maindir.joinpath(\"1M MESA-Web_Job_05292549072/\")"
   ]
  },
  {
   "cell_type": "code",
   "execution_count": 4,
   "id": "5bd897fe-db0c-4b31-9568-0957e014e917",
   "metadata": {},
   "outputs": [
    {
     "name": "stdout",
     "output_type": "stream",
     "text": [
      "/home/ben2121/Lane emden                 /home/ben2121/Lane emden/1M MESA-Web_Job_05292549072\n"
     ]
    }
   ],
   "source": [
    "print(maindir ,\"               \", workingdir)"
   ]
  },
  {
   "cell_type": "code",
   "execution_count": 5,
   "id": "5926090f-5286-48cb-9d91-1cdc8d72ff73",
   "metadata": {},
   "outputs": [
    {
     "data": {
      "text/plain": [
       "pathlib._local.PosixPath"
      ]
     },
     "execution_count": 5,
     "metadata": {},
     "output_type": "execute_result"
    }
   ],
   "source": [
    "type(maindir)"
   ]
  },
  {
   "cell_type": "code",
   "execution_count": 6,
   "id": "a9ccdafd-77ae-427b-bc46-968059dc1e02",
   "metadata": {},
   "outputs": [],
   "source": [
    "data_files = list(workingdir.iterdir())"
   ]
  },
  {
   "cell_type": "code",
   "execution_count": 7,
   "id": "d6aee153-ebb9-4524-9e12-c067d0927b59",
   "metadata": {},
   "outputs": [
    {
     "name": "stdout",
     "output_type": "stream",
     "text": [
      "265\n",
      "[PosixPath('/home/ben2121/Lane emden/1M MESA-Web_Job_05292549072/profile1.data'), PosixPath('/home/ben2121/Lane emden/1M MESA-Web_Job_05292549072/profile10.data'), PosixPath('/home/ben2121/Lane emden/1M MESA-Web_Job_05292549072/profile100.data'), PosixPath('/home/ben2121/Lane emden/1M MESA-Web_Job_05292549072/profile101.data'), PosixPath('/home/ben2121/Lane emden/1M MESA-Web_Job_05292549072/profile102.data'), PosixPath('/home/ben2121/Lane emden/1M MESA-Web_Job_05292549072/profile103.data'), PosixPath('/home/ben2121/Lane emden/1M MESA-Web_Job_05292549072/profile104.data'), PosixPath('/home/ben2121/Lane emden/1M MESA-Web_Job_05292549072/profile105.data'), PosixPath('/home/ben2121/Lane emden/1M MESA-Web_Job_05292549072/profile106.data'), PosixPath('/home/ben2121/Lane emden/1M MESA-Web_Job_05292549072/profile107.data')]\n"
     ]
    }
   ],
   "source": [
    "data_files = workingdir.glob(\"profile*.data\")\n",
    "data_files = sorted(data_files)\n",
    "print(len(data_files))\n",
    "print(data_files[0:10])"
   ]
  },
  {
   "cell_type": "code",
   "execution_count": 8,
   "id": "58176df5-af15-4537-9c82-8f466eee05a2",
   "metadata": {},
   "outputs": [
    {
     "data": {
      "text/plain": [
       "13001"
      ]
     },
     "execution_count": 8,
     "metadata": {},
     "output_type": "execute_result"
    }
   ],
   "source": [
    "history = workingdir.glob(\"trimmed*.data\")\n",
    "history = sorted(history)\n",
    "hist = np.genfromtxt(history[0], delimiter = None, unpack = True, skip_header = 6, usecols = [1])\n",
    "len(hist)"
   ]
  },
  {
   "cell_type": "code",
   "execution_count": 9,
   "id": "f5a9940b-0af2-4e84-8220-3f00fd1fe3e7",
   "metadata": {},
   "outputs": [
    {
     "name": "stdout",
     "output_type": "stream",
     "text": [
      "[1.00000000e-05 2.20000000e-05 3.64000000e-05 ... 1.24763051e+10\n",
      " 1.24763051e+10 1.24763052e+10]\n"
     ]
    }
   ],
   "source": [
    "prof_num = workingdir.glob(\"*.index\")\n",
    "prof_num = sorted(prof_num)\n",
    "pn = np.genfromtxt(prof_num[0], delimiter = None, unpack = True, skip_header = 1, usecols = [0,2])\n",
    "mod, pro = pn\n",
    "print(hist)"
   ]
  },
  {
   "cell_type": "code",
   "execution_count": 11,
   "id": "18b6aa65-9b53-490d-aa4d-029d07eab3ec",
   "metadata": {},
   "outputs": [
    {
     "name": "stdout",
     "output_type": "stream",
     "text": [
      "a\n",
      "a\n",
      "a\n",
      "a\n",
      "a\n",
      "a\n",
      "a\n",
      "a\n",
      "a\n",
      "a\n",
      "a\n",
      "a\n",
      "a\n",
      "a\n",
      "a\n",
      "a\n",
      "a\n",
      "a\n",
      "a\n",
      "a\n",
      "a\n",
      "a\n",
      "a\n",
      "a\n",
      "a\n",
      "a\n",
      "a\n",
      "a\n",
      "a\n",
      "a\n",
      "a\n",
      "a\n",
      "a\n",
      "a\n",
      "a\n",
      "a\n",
      "a\n",
      "a\n",
      "a\n",
      "a\n",
      "a\n",
      "a\n",
      "a\n",
      "a\n",
      "a\n",
      "a\n",
      "a\n",
      "a\n",
      "a\n",
      "a\n",
      "a\n",
      "a\n",
      "a\n",
      "a\n",
      "a\n",
      "a\n",
      "a\n",
      "a\n",
      "a\n",
      "a\n",
      "a\n",
      "a\n",
      "a\n",
      "a\n",
      "a\n",
      "a\n",
      "a\n",
      "a\n",
      "a\n",
      "a\n",
      "a\n",
      "a\n",
      "a\n",
      "a\n",
      "a\n",
      "a\n",
      "a\n",
      "a\n",
      "a\n",
      "a\n",
      "a\n",
      "a\n",
      "a\n",
      "a\n",
      "a\n",
      "a\n",
      "a\n",
      "a\n",
      "a\n",
      "a\n",
      "a\n",
      "a\n",
      "a\n",
      "a\n",
      "a\n",
      "a\n",
      "a\n",
      "a\n",
      "a\n",
      "a\n",
      "a\n",
      "a\n",
      "a\n",
      "a\n",
      "a\n",
      "a\n",
      "a\n",
      "a\n",
      "a\n",
      "a\n",
      "a\n",
      "a\n",
      "a\n",
      "a\n",
      "a\n",
      "a\n",
      "a\n",
      "a\n",
      "a\n",
      "a\n",
      "a\n",
      "a\n",
      "a\n",
      "a\n",
      "a\n",
      "a\n",
      "a\n",
      "a\n",
      "a\n",
      "a\n",
      "a\n",
      "a\n",
      "a\n",
      "a\n",
      "a\n",
      "a\n",
      "a\n",
      "a\n",
      "a\n",
      "a\n",
      "a\n",
      "a\n",
      "a\n",
      "a\n",
      "a\n",
      "a\n",
      "a\n",
      "a\n",
      "a\n",
      "a\n",
      "a\n",
      "a\n",
      "a\n",
      "a\n",
      "a\n",
      "a\n",
      "a\n",
      "a\n",
      "a\n",
      "a\n",
      "a\n",
      "a\n",
      "a\n",
      "a\n",
      "a\n",
      "a\n",
      "a\n",
      "a\n",
      "a\n",
      "a\n",
      "a\n",
      "a\n",
      "a\n",
      "a\n",
      "a\n",
      "a\n",
      "a\n",
      "a\n",
      "a\n",
      "a\n",
      "a\n",
      "a\n",
      "a\n",
      "a\n",
      "a\n",
      "a\n",
      "a\n",
      "a\n",
      "a\n",
      "a\n",
      "a\n",
      "a\n",
      "a\n",
      "a\n",
      "a\n",
      "a\n",
      "a\n",
      "a\n",
      "a\n",
      "a\n",
      "a\n",
      "a\n",
      "a\n",
      "a\n",
      "a\n",
      "a\n",
      "a\n",
      "a\n",
      "a\n",
      "a\n",
      "a\n",
      "a\n",
      "a\n",
      "a\n",
      "a\n",
      "a\n",
      "a\n",
      "a\n",
      "a\n",
      "a\n",
      "a\n",
      "a\n",
      "a\n",
      "a\n",
      "a\n",
      "a\n",
      "a\n",
      "a\n",
      "a\n",
      "a\n",
      "a\n",
      "a\n",
      "a\n",
      "a\n",
      "a\n",
      "a\n",
      "a\n",
      "a\n",
      "a\n",
      "a\n",
      "a\n",
      "a\n",
      "a\n",
      "a\n",
      "a\n",
      "a\n",
      "a\n",
      "a\n",
      "a\n",
      "a\n",
      "a\n",
      "a\n",
      "a\n",
      "a\n",
      "a\n",
      "a\n",
      "a\n",
      "a\n",
      "a\n",
      "a\n",
      "a\n",
      "a\n",
      "a\n",
      "a\n",
      "a\n",
      "a\n"
     ]
    },
    {
     "ename": "IndexError",
     "evalue": "index 265 is out of bounds for axis 0 with size 265",
     "output_type": "error",
     "traceback": [
      "\u001b[31m---------------------------------------------------------------------------\u001b[39m",
      "\u001b[31mIndexError\u001b[39m                                Traceback (most recent call last)",
      "\u001b[36mCell\u001b[39m\u001b[36m \u001b[39m\u001b[32mIn[11]\u001b[39m\u001b[32m, line 3\u001b[39m\n\u001b[32m      1\u001b[39m profile_times = np.zeros(\u001b[38;5;28mlen\u001b[39m(mod))\n\u001b[32m      2\u001b[39m \u001b[38;5;28;01mfor\u001b[39;00m i \u001b[38;5;129;01min\u001b[39;00m \u001b[38;5;28mrange\u001b[39m(\u001b[38;5;28mlen\u001b[39m(hist)):\n\u001b[32m----> \u001b[39m\u001b[32m3\u001b[39m     \u001b[38;5;28;01mif\u001b[39;00m \u001b[43mmod\u001b[49m\u001b[43m[\u001b[49m\u001b[43mi\u001b[49m\u001b[43m-\u001b[49m\u001b[32;43m1\u001b[39;49m\u001b[43m]\u001b[49m == hist[i-\u001b[32m1\u001b[39m]:\n\u001b[32m      4\u001b[39m         profile_times[i-\u001b[32m1\u001b[39m] += hist[i-\u001b[32m1\u001b[39m]\n\u001b[32m      5\u001b[39m         \u001b[38;5;28mprint\u001b[39m(profile_times[i-\u001b[32m1\u001b[39m])\n",
      "\u001b[31mIndexError\u001b[39m: index 265 is out of bounds for axis 0 with size 265"
     ]
    }
   ],
   "source": [
    "profile_times = np.zeros(len(mod))\n",
    "for i in range(len(hist)):\n",
    "    if mod[i-1] == hist[i-1]:\n",
    "        profile_times[i-1] += hist[i-1]\n",
    "        print(profile_times[i-1])\n",
    "        i=i+1\n",
    "    else:\n",
    "        print(\"a\")\n",
    "        i=i+1"
   ]
  },
  {
   "cell_type": "code",
   "execution_count": null,
   "id": "9ae665d9-4c93-460a-81c3-936d6d3fbb7f",
   "metadata": {},
   "outputs": [],
   "source": [
    "print(profile_times)"
   ]
  },
  {
   "cell_type": "code",
   "execution_count": null,
   "id": "4bebc32b-650b-41f2-9e75-9ad79074f3be",
   "metadata": {},
   "outputs": [],
   "source": [
    "fig = plt.figure()\n",
    "ax = fig.add_subplot()\n",
    "ax.plot(hist)\n"
   ]
  },
  {
   "cell_type": "code",
   "execution_count": null,
   "id": "aaac0c5e-06da-4a65-9f16-6bcb0444fae1",
   "metadata": {},
   "outputs": [],
   "source": [
    "print(type(workingdir))"
   ]
  },
  {
   "cell_type": "code",
   "execution_count": null,
   "id": "a39a0eb9-b31d-4999-aad2-803a15e4be76",
   "metadata": {},
   "outputs": [],
   "source": [
    "n=2"
   ]
  },
  {
   "cell_type": "code",
   "execution_count": null,
   "id": "7dc4a23b-2f0f-4349-ac88-f692bcb4fcfc",
   "metadata": {},
   "outputs": [],
   "source": [
    "data_files[n]"
   ]
  },
  {
   "cell_type": "code",
   "execution_count": null,
   "id": "cad50a23-0881-47b1-8bca-44f9dcc95c2d",
   "metadata": {},
   "outputs": [],
   "source": [
    "m=100"
   ]
  },
  {
   "cell_type": "markdown",
   "id": "5135e168-27ff-4e08-9a5c-ba42bd52f51e",
   "metadata": {},
   "source": [
    "#### Extracting the data froma profile file."
   ]
  },
  {
   "cell_type": "code",
   "execution_count": null,
   "id": "d0884df8-df5e-4444-aecf-cf759d719d75",
   "metadata": {},
   "outputs": [],
   "source": [
    "data = np.genfromtxt(data_files[n], delimiter = None, unpack = True, skip_header = 6, usecols = [0, 4])\n",
    "#data123a = np.genfromtxt(data_files[123], delimiter = None, unpack = False, skip_header = 6, usecols = 1, 4)"
   ]
  },
  {
   "cell_type": "code",
   "execution_count": null,
   "id": "626ca8a0-9804-4be1-a709-3cc08fd27dd7",
   "metadata": {},
   "outputs": [],
   "source": [
    "rad, log_rho = data"
   ]
  },
  {
   "cell_type": "code",
   "execution_count": null,
   "id": "cb5ca008-01da-4576-b86a-0315c8b11d20",
   "metadata": {},
   "outputs": [],
   "source": [
    "rho = 10**log_rho"
   ]
  },
  {
   "cell_type": "code",
   "execution_count": null,
   "id": "270b2df1-3545-425c-8eca-7bba183967fe",
   "metadata": {},
   "outputs": [],
   "source": [
    "\n",
    "fig1 = plt.figure()\n",
    "ax1 = fig1.add_subplot()\n",
    "ax1.plot(rad, rho)\n",
    "ax1.set_title(\"1M_sun rad vs den for profile {}\".format(m))\n",
    "ax1.set_xlabel(\"radius / R_sun\")\n",
    "ax1.set_ylabel(\"density / g cm^-3\")\n",
    "fig1.tight_layout()\n",
    "fig1.savefig(\"1M_sun rad vs den for profile {} .pdf\" .format(m))\n",
    "fig1.savefig(\"1M_sun rad vs den for profile {} .jpg\" .format(m))"
   ]
  },
  {
   "cell_type": "markdown",
   "id": "77b346f0-4e36-494e-b92a-8cc127c425f5",
   "metadata": {},
   "source": [
    "data = Table.read(data_files[123], format=\".data\")"
   ]
  },
  {
   "cell_type": "code",
   "execution_count": null,
   "id": "797b3ff6-3ea6-44aa-a5a6-a4263247b76a",
   "metadata": {},
   "outputs": [],
   "source": []
  }
 ],
 "metadata": {
  "kernelspec": {
   "display_name": "Python 3 (ipykernel)",
   "language": "python",
   "name": "python3"
  },
  "language_info": {
   "codemirror_mode": {
    "name": "ipython",
    "version": 3
   },
   "file_extension": ".py",
   "mimetype": "text/x-python",
   "name": "python",
   "nbconvert_exporter": "python",
   "pygments_lexer": "ipython3",
   "version": "3.13.1"
  }
 },
 "nbformat": 4,
 "nbformat_minor": 5
}
