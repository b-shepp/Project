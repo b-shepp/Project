{
 "cells": [
  {
   "cell_type": "markdown",
   "id": "bb620961-0f95-494a-9681-a1d41807f23d",
   "metadata": {},
   "source": [
    "# My attempt at making a Lane Emden Eigenvalue problem for the sun   \n",
    "\n",
    "## $ { \\frac{1}{\\xi^2}  \\frac{d}{d \\xi} \\biggl( \\xi^2 \\frac{d \\theta}{d \\xi} \\biggr) } = {- \\theta^n}  $  \n",
    "$ \\xi $ is a dimmensionless radius  \n",
    "$ \\theta $ is dimesionless variable relating core density and denity at a point $ \\theta^n = \\frac{\\rho}{\\rho_c} $. Thus $ \\theta = 0 $ at surface and $ \\theta = 1 $ at core.  \n",
    "Will be using n=3. As this is a good fir for a sun liike star.\n",
    "\n",
    "### <font color='red'><ins> Within the code i will be using q indtead of theata in the equation to tryand prevent confusion with the coordinate system <ins></font>  "
   ]
  },
  {
   "cell_type": "markdown",
   "id": "f11cff28-71c7-4194-a4fa-1fada5df2858",
   "metadata": {},
   "source": [
    "#### Importing modules"
   ]
  },
  {
   "cell_type": "code",
   "execution_count": 1,
   "id": "24c9d807-5604-458e-86f2-6027d17f147a",
   "metadata": {},
   "outputs": [],
   "source": [
    "import numpy as np\n",
    "import matplotlib.pyplot as plt\n",
    "import dedalus.public as d3\n",
    "import logging\n",
    "logger = logging.getLogger(__name__)"
   ]
  },
  {
   "cell_type": "markdown",
   "id": "0772079e-a95b-481c-91ab-0043d8f66c99",
   "metadata": {},
   "source": [
    "#### setting up the compomnents needed for dedalus to understand and solve the equation\n",
    "This will use n=3 as it is a sun light polytrope"
   ]
  },
  {
   "cell_type": "code",
   "execution_count": 2,
   "id": "e5bb374b-d3d8-43b2-9293-e3a357f1d8d5",
   "metadata": {},
   "outputs": [],
   "source": [
    "n=3"
   ]
  },
  {
   "cell_type": "code",
   "execution_count": 3,
   "id": "efdf1b5c-c52f-4498-89d5-cb08de10e21e",
   "metadata": {},
   "outputs": [],
   "source": [
    "datatype = np.complex128\n",
    "coords = d3.SphericalCoordinates(\"phi\" , \"theta\", \"r\") #create a set of coordinates\n",
    "dist = d3.Distributor(coords, dtype = datatype) #assign the coordinates as a distributable and as a complex double.\n",
    "ball = d3.BallBasis(coords, (1, 1, 50), dtype = datatype,  radius = 1, dealias = 2) # assigning the corrdinates and their extent to a ball"
   ]
  },
  {
   "cell_type": "code",
   "execution_count": 4,
   "id": "976b5d37-0bd3-4b77-8e3b-8f20508e8740",
   "metadata": {},
   "outputs": [],
   "source": [
    "q = dist.Field(name=\"q\", bases=ball) #creating a field as this is what is being solved for\n",
    "tau = dist.Field(name = \"tau\", bases=ball.surface) #creating a tau field, this slightly adapts the equation to more solvable one. This is doen by adding boundary conditions.\n",
    "# There is only a single tau term in trhe radial dimension if a ball as it has inly a single outer edge.\n",
    "#xi = dist.Field(name = \"xi\")"
   ]
  },
  {
   "cell_type": "code",
   "execution_count": 5,
   "id": "98e67296-3d93-450a-ba66-ac06039a4b98",
   "metadata": {},
   "outputs": [],
   "source": [
    "lift = lambda A: d3.Lift(A, ball, -1) #Lift puts the tau term in a format thatg works for a ball"
   ]
  },
  {
   "cell_type": "markdown",
   "id": "1c674202-f0b1-4fbc-9c65-0c842471e8a0",
   "metadata": {},
   "source": [
    "creating the problem and adding equations to it. Problem will be created as an eigna value problem for y and tau"
   ]
  },
  {
   "cell_type": "markdown",
   "id": "dd03e9f7-02ba-438a-bc45-aa93b94041d0",
   "metadata": {},
   "source": [
    "The lane emdent equation is effectivly the radial term if a spherical laplacian of theta which equals -theta^n  \n",
    "$ \\nabla^2 \\theta = - \\theta^n $  \n",
    "$ \\nabla^2 f = \\frac{1}{r^2} \\frac{\\partial}{\\partial r} \\left( r^2 \\frac{\\partial f}{\\partial r} \\right) + \\frac{1}{r^2 \\sin \\theta} \\frac{\\partial}{\\partial \\theta} \\left( \\sin \\theta \\frac{\\partial f}{\\partial \\theta} \\right) + \\frac{1}{r^2 \\sin^2 \\theta} \\frac{\\partial^2 f}{\\partial \\phi^2} $  \n",
    "$ { \\frac{1}{\\xi^2}  \\frac{d}{d \\xi} \\biggl( \\xi^2 \\frac{d \\theta}{d \\xi} \\biggr) } = {- \\theta^n} $  \n",
    "$ \\xi $ is a dimensionless radius "
   ]
  },
  {
   "cell_type": "code",
   "execution_count": 6,
   "id": "99ea3228-a947-44f2-9678-458c77536ddc",
   "metadata": {},
   "outputs": [
    {
     "data": {
      "text/plain": [
       "{'eqn': interp(<Field 140580733361120>, r=1),\n",
       " 'LHS': interp(<Field 140580733361120>, r=1),\n",
       " 'RHS': 0,\n",
       " 'condition': 'True',\n",
       " 'tensorsig': (),\n",
       " 'dtype': numpy.complex128,\n",
       " 'valid_modes': array([[[ True]]]),\n",
       " 'F': interp(<Field 140580733361120>, r=1),\n",
       " 'dF': interp(<Field 140580731619280>, r=1),\n",
       " 'domain': <dedalus.core.domain.Domain at 0x7fdb8bdcf110>,\n",
       " 'matrix_dependence': array([False,  True,  True]),\n",
       " 'matrix_coupling': array([False, False,  True])}"
      ]
     },
     "execution_count": 6,
     "metadata": {},
     "output_type": "execute_result"
    }
   ],
   "source": [
    "problem = d3.NLBVP([q, tau], namespace = locals())\n",
    "#lap_q = d3.Laplacian(q).evaluate()\n",
    "#eqn\n",
    "problem.add_equation(\"lap(q) + lift(tau) + q**n = 0\")\n",
    "#boundaries\n",
    "#fx = d3.Differentiate(q, coords['r'])\n",
    "problem.add_equation(\"q(r=1) = 0\")\n",
    "#problem.add_equation(\"grad(q(r=0))= 0\")"
   ]
  },
  {
   "cell_type": "markdown",
   "id": "af8ebf71-e893-4210-add2-5b68bda37a7b",
   "metadata": {},
   "source": [
    "#### Setting the initial conditions"
   ]
  },
  {
   "cell_type": "markdown",
   "id": "2ac65e12-f2ae-4f3a-ab92-b909a86aa54f",
   "metadata": {},
   "source": [
    "The following cells are code from th eexample code  \n",
    "https://dedalus-project.readthedocs.io/en/latest/pages/examples/nlbvp_ball_lane_emden.html"
   ]
  },
  {
   "cell_type": "code",
   "execution_count": 7,
   "id": "d691da84-88dc-43d7-b675-843f9bd08486",
   "metadata": {},
   "outputs": [],
   "source": [
    "phi, theta,r = dist.local_grids(ball)\n",
    "R0 = 5\n",
    "q[\"g\"] = ( R0 ** (2/(n-1)) ) * ( 1 - r**2 ) **2"
   ]
  },
  {
   "cell_type": "markdown",
   "id": "02c5813d-4abe-4ec2-a9fb-92e8086ef76d",
   "metadata": {},
   "source": [
    "#### Solving"
   ]
  },
  {
   "cell_type": "code",
   "execution_count": 8,
   "id": "a5328873-4b99-4d30-952f-af1c19bdb13b",
   "metadata": {},
   "outputs": [
    {
     "name": "stdout",
     "output_type": "stream",
     "text": [
      "2025-06-03 11:56:23,590 subsystems 0/1 INFO :: Building subproblem matrices 1/1 (~100%) Elapsed: 0s, Remaining: 0s, Rate: 1.8e+01/s\n",
      "2025-06-03 11:56:23,594 __main__ 0/1 INFO :: Perturbation norm: 3.550e-01\n",
      "2025-06-03 11:56:23,624 __main__ 0/1 INFO :: R iterate: (7.361113662674596+0j)\n",
      "2025-06-03 11:56:23,693 subsystems 0/1 INFO :: Building subproblem matrices 1/1 (~100%) Elapsed: 0s, Remaining: 0s, Rate: 1.5e+01/s\n",
      "2025-06-03 11:56:23,696 __main__ 0/1 INFO :: Perturbation norm: 6.203e-02\n",
      "2025-06-03 11:56:23,698 __main__ 0/1 INFO :: R iterate: (6.927472163516801+0j)\n",
      "2025-06-03 11:56:23,765 subsystems 0/1 INFO :: Building subproblem matrices 1/1 (~100%) Elapsed: 0s, Remaining: 0s, Rate: 1.6e+01/s\n",
      "2025-06-03 11:56:23,768 __main__ 0/1 INFO :: Perturbation norm: 1.192e-02\n",
      "2025-06-03 11:56:23,770 __main__ 0/1 INFO :: R iterate: (6.898414977183625+0j)\n",
      "2025-06-03 11:56:23,863 subsystems 0/1 INFO :: Building subproblem matrices 1/1 (~100%) Elapsed: 0s, Remaining: 0s, Rate: 1.1e+01/s\n",
      "2025-06-03 11:56:23,866 __main__ 0/1 INFO :: Perturbation norm: 8.935e-05\n",
      "2025-06-03 11:56:23,867 __main__ 0/1 INFO :: R iterate: (6.896848500633839+0j)\n",
      "2025-06-03 11:56:23,954 subsystems 0/1 INFO :: Building subproblem matrices 1/1 (~100%) Elapsed: 0s, Remaining: 0s, Rate: 1.2e+01/s\n",
      "2025-06-03 11:56:23,957 __main__ 0/1 INFO :: Perturbation norm: 4.906e-08\n",
      "2025-06-03 11:56:23,960 __main__ 0/1 INFO :: R iterate: (6.89684861937095+0j)\n",
      "2025-06-03 11:56:24,032 subsystems 0/1 INFO :: Building subproblem matrices 1/1 (~100%) Elapsed: 0s, Remaining: 0s, Rate: 1.5e+01/s\n",
      "2025-06-03 11:56:24,035 __main__ 0/1 INFO :: Perturbation norm: 1.545e-13\n",
      "2025-06-03 11:56:24,036 __main__ 0/1 INFO :: R iterate: (6.896848619377109+0j)\n"
     ]
    }
   ],
   "source": [
    "solver = problem.build_solver(ncc_cutoff = 1e-3)\n",
    "tolerance = 1e-10\n",
    "\n",
    "#solver.solve\n",
    "pert_norm = np.inf\n",
    "q.change_scales(2)\n",
    "steps = [q['g'].ravel().copy()]\n",
    "while pert_norm > tolerance:\n",
    "    solver.newton_iteration()\n",
    "    pert_norm = sum(pert.allreduce_data_norm('c', 2) for pert in solver.perturbations)\n",
    "    logger.info(f'Perturbation norm: {pert_norm:.3e}')\n",
    "    q0 = q(r=0).evaluate().allgather_data('g')[0,0,0]\n",
    "    Ri = q0**((n-1)/2)\n",
    "    logger.info(f'R iterate: {Ri}')\n",
    "    steps.append(q['g'].ravel().copy())"
   ]
  },
  {
   "cell_type": "code",
   "execution_count": 9,
   "id": "8dd4df04-38d6-4070-9419-415f41b8fe6b",
   "metadata": {},
   "outputs": [
    {
     "name": "stdout",
     "output_type": "stream",
     "text": [
      "2025-06-03 11:56:24,046 __main__ 0/1 INFO :: --------------------\n",
      "2025-06-03 11:56:24,048 __main__ 0/1 INFO :: Iterations: 6\n",
      "2025-06-03 11:56:24,050 __main__ 0/1 INFO :: Final R iteration: (6.896848619377109+0j)\n",
      "2025-06-03 11:56:24,051 __main__ 0/1 INFO :: Error vs reference: 1.483e-13+0.000e+00j\n"
     ]
    }
   ],
   "source": [
    "\n",
    "# Compare to reference solutions from Boyd\n",
    "R_ref = {0.0: np.sqrt(6),\n",
    "        0.5: 2.752698054065,\n",
    "        1.0: np.pi,\n",
    "        1.5: 3.65375373621912608,\n",
    "        2.0: 4.3528745959461246769735700,\n",
    "        2.5: 5.355275459010779,\n",
    "        3.0: 6.896848619376960375454528,\n",
    "        3.25: 8.018937527,\n",
    "        3.5: 9.535805344244850444,\n",
    "        4.0: 14.971546348838095097611066,\n",
    "        4.5: 31.836463244694285264}\n",
    "logger.info('-'*20)\n",
    "logger.info(f'Iterations: {solver.iteration}')\n",
    "logger.info(f'Final R iteration: {Ri}')\n",
    "if n in R_ref:\n",
    "    logger.info(f'Error vs reference: {Ri-R_ref[n]:.3e}')\n"
   ]
  },
  {
   "cell_type": "code",
   "execution_count": 12,
   "id": "231eeab1-eac4-480d-b023-3f616c0670b4",
   "metadata": {},
   "outputs": [
    {
     "name": "stderr",
     "output_type": "stream",
     "text": [
      "/home/ben2121/miniforge3/envs/dedalus3/lib/python3.13/site-packages/matplotlib/cbook.py:1709: ComplexWarning: Casting complex values to real discards the imaginary part\n",
      "  return math.isfinite(val)\n",
      "/home/ben2121/miniforge3/envs/dedalus3/lib/python3.13/site-packages/matplotlib/cbook.py:1345: ComplexWarning: Casting complex values to real discards the imaginary part\n",
      "  return np.asarray(x, float)\n"
     ]
    },
    {
     "data": {
      "image/png": "[encoded data removed]",
      "text/plain": [
       "<Figure size 600x400 with 1 Axes>"
      ]
     },
     "metadata": {},
     "output_type": "display_data"
    }
   ],
   "source": [
    "plt.figure(figsize=(6, 4))\n",
    "_, _, r = dist.local_grids(ball, scales=(2,2,2))\n",
    "alpha = np.linspace(0.2, 1, len(steps))\n",
    "color = ('C0',) * (len(steps)-1) + ('C1',)\n",
    "for i, step in enumerate(steps):\n",
    "    plt.plot(r.ravel(), step, c=color[i], alpha=alpha[i], label=f\"step {i}\")\n",
    "plt.legend()\n",
    "plt.xlim(0, 1)\n",
    "plt.ylim(0, None)\n",
    "plt.xlabel('r')\n",
    "plt.ylabel('y')\n",
    "plt.title(f\"Lane-Emden, n={n}\")\n",
    "plt.tight_layout()\n",
    "plt.savefig('lane_emden example and my code code.pdf')\n",
    "plt.savefig('lane_emden example and my code code.png', dpi=200)"
   ]
  },
  {
   "cell_type": "markdown",
   "id": "c72c1827-a9bd-40ed-9dfc-54ebda9618ad",
   "metadata": {},
   "source": [
    "# Parameters\n",
    "Nr = 64\n",
    "n = 3.0\n",
    "ncc_cutoff = 1e-3\n",
    "tolerance = 1e-10\n",
    "dealias = 2\n",
    "dtype = np.complex128\n",
    "\n",
    "# Bases\n",
    "coords = d3.SphericalCoordinates('phi', 'theta', 'r')\n",
    "dist = d3.Distributor(coords, dtype=dtype)\n",
    "ball = d3.BallBasis(coords, (1, 1, 100), radius=1, dtype=dtype, dealias=dealias)\n",
    "\n",
    "# Fields\n",
    "q = dist.Field(name='q', bases=ball)\n",
    "tau = dist.Field(name='tau', bases=ball.surface)\n",
    "\n",
    "# Substitutions\n",
    "lift = lambda A: d3.Lift(A, ball, -1)\n",
    "\n",
    "# Problem\n",
    "problem = d3.NLBVP([q, tau], namespace=locals())\n",
    "problem.add_equation(\"lap(q) + lift(tau) = - q**n\")\n",
    "problem.add_equation(\"q(r=0) = 1\")\n"
   ]
  },
  {
   "cell_type": "markdown",
   "id": "6638130a-0657-41b8-8ced-200f4258f8ca",
   "metadata": {},
   "source": [
    "The 3d polytropic lane emden  \n",
    "\n",
    "$q_{xx} = \\frac{d^2 q}{d x^2} and $ $q_{x} = \\frac{d q}{d x} $  \n",
    "$ q_{rr} + \\bigl( \\frac{2}{r} \\bigr) q_r + y^m = 0 $ with $ q(0) = 1 $ and $ q_r(0) = 0 $   Which when $ r = \\xi x $ is applied it becomes $ q_{xx} + \\bigl( \\frac{2}{x} \\bigr) q_r + { \\xi^2 q^m} = 0 $\n",
    "as stated by   \n",
    "@article{article,\n",
    "author = {Boyd, John},\n",
    "year = {2011},\n",
    "month = {05},\n",
    "pages = {},\n",
    "title = {Chebyshev Spectral Methods and the Lane-Emden Problem},\n",
    "volume = {4},\n",
    "journal = {Numerical Mathematics: Theory, Methods and Applications},\n",
    "doi = {10.4208/nmtma.2011.42s.2}\n",
    "}"
   ]
  },
  {
   "cell_type": "code",
   "execution_count": null,
   "id": "0ee941ee-48b0-4732-98db-ed995d387ebb",
   "metadata": {},
   "outputs": [],
   "source": []
  }
 ],
 "metadata": {
  "kernelspec": {
   "display_name": "Python 3 (ipykernel)",
   "language": "python",
   "name": "python3"
  },
  "language_info": {
   "codemirror_mode": {
    "name": "ipython",
    "version": 3
   },
   "file_extension": ".py",
   "mimetype": "text/x-python",
   "name": "python",
   "nbconvert_exporter": "python",
   "pygments_lexer": "ipython3",
   "version": "3.13.1"
  }
 },
 "nbformat": 4,
 "nbformat_minor": 5
}
