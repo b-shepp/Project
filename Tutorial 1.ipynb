{
 "cells": [
  {
   "cell_type": "markdown",
   "id": "f02d110f-de1f-48b2-8ae5-26b827b0eafc",
   "metadata": {},
   "source": [
    "# Dedalus tutorial 1\n",
    "#### Coordinate, Distributers and Bases"
   ]
  },
  {
   "cell_type": "code",
   "execution_count": 1,
   "id": "d65d3445-764f-40c5-ae9b-9477cc262eb9",
   "metadata": {},
   "outputs": [],
   "source": [
    "import numpy as np\n",
    "import matplotlib.pyplot as plt\n",
    "import dedalus.public as d3"
   ]
  },
  {
   "cell_type": "code",
   "execution_count": 2,
   "id": "1bec0a85-c724-4bb5-8645-42bd9510fc2f",
   "metadata": {},
   "outputs": [],
   "source": [
    "%matplotlib inline\n",
    "%config InlineBackend.figure_format = 'retina'"
   ]
  },
  {
   "attachments": {},
   "cell_type": "markdown",
   "id": "ddd1d852-1fb3-4568-bed2-18aae41909b3",
   "metadata": {},
   "source": [
    "###### Defineing a coordinate system\n",
    "1D \"CoordinateSystem\"\\\n",
    "3D any dimensions \"CartesianCoordinates\"\\\n",
    "3D Azimuth and radius \"PolarCoordinates\"\\\n",
    "3D azimuth and colatitude \"S2Coordinates\"\\\n",
    "3D azimuth, colatitude and radius \"SphericalCoordinates\""
   ]
  },
  {
   "cell_type": "code",
   "execution_count": 3,
   "id": "a480a33a-2754-4df0-a74a-cd69b8085762",
   "metadata": {},
   "outputs": [],
   "source": [
    "coords = d3.CartesianCoordinates('x', 'y', 'z')"
   ]
  },
  {
   "cell_type": "code",
   "execution_count": 4,
   "id": "ef4855a0-181c-4279-851b-984fd0f5a5ed",
   "metadata": {},
   "outputs": [],
   "source": [
    "dist = d3.Distributor(coords, dtype=np.float64) # No mesh for serial / automatic parallelization"
   ]
  },
  {
   "cell_type": "code",
   "execution_count": 5,
   "id": "fcb315d2-9836-4724-9b50-efaeb755bcce",
   "metadata": {},
   "outputs": [
    {
     "name": "stdout",
     "output_type": "stream",
     "text": [
      "Layout 0:  Grid space: [False False False]  Local: [ True  True  True]\n",
      "Layout 1:  Grid space: [False False  True]  Local: [ True  True  True]\n",
      "Layout 2:  Grid space: [False  True  True]  Local: [ True  True  True]\n",
      "Layout 3:  Grid space: [ True  True  True]  Local: [ True  True  True]\n"
     ]
    }
   ],
   "source": [
    "for layout in dist.layouts:\n",
    "    print('Layout {}:  Grid space: {}  Local: {}'.format(layout.index, layout.grid_space, layout.local))"
   ]
  },
  {
   "cell_type": "code",
   "execution_count": 6,
   "id": "52b6430f-9855-4915-a393-024df48abccf",
   "metadata": {},
   "outputs": [],
   "source": [
    "xbasis = d3.RealFourier(coords['x'], size=32, bounds=(0,1), dealias=3/2)\n",
    "ybasis = d3.RealFourier(coords['y'], size=32, bounds=(0,1), dealias=3/2)\n",
    "zbasis = d3.Chebyshev(coords['z'], size=32, bounds=(0,1), dealias=3/2)"
   ]
  },
  {
   "cell_type": "code",
   "execution_count": 7,
   "id": "2e8e3010-22a3-4fd9-a059-bcab45cee663",
   "metadata": {},
   "outputs": [
    {
     "data": {
      "image/png": "[encoded data removed]",
      "text/plain": [
       "<Figure size 600x150 with 1 Axes>"
      ]
     },
     "metadata": {
      "image/png": {
       "height": 141,
       "width": 590
      }
     },
     "output_type": "display_data"
    }
   ],
   "source": [
    "grid_normal = zbasis.global_grid(dist, scale=1).ravel()\n",
    "grid_dealias = zbasis.global_grid(dist, scale=3/2).ravel()\n",
    "\n",
    "plt.figure(figsize=(6, 1.5), dpi=100)\n",
    "plt.plot(grid_normal, 0*grid_normal+1, 'o', markersize=5)\n",
    "plt.plot(grid_dealias, 0*grid_dealias-1, 'o', markersize=5)\n",
    "plt.xlabel('z')\n",
    "plt.title('Chebyshev grid with scales 1 and 3/2')\n",
    "plt.ylim([-2, 2])\n",
    "plt.gca().yaxis.set_ticks([]);\n",
    "plt.tight_layout()"
   ]
  },
  {
   "cell_type": "code",
   "execution_count": 8,
   "id": "c17f5cb1-c962-4cae-a522-351a32eb95f7",
   "metadata": {},
   "outputs": [
    {
     "name": "stdout",
     "output_type": "stream",
     "text": [
      "Local x shape: (32, 1, 1)\n",
      "Local y shape: (1, 32, 1)\n",
      "Local z shape: (1, 1, 32)\n"
     ]
    }
   ],
   "source": [
    "local_x = dist.local_grid(xbasis)\n",
    "local_y = dist.local_grid(ybasis)\n",
    "local_z = dist.local_grid(zbasis)\n",
    "print('Local x shape:', local_x.shape)\n",
    "print('Local y shape:', local_y.shape)\n",
    "print('Local z shape:', local_z.shape)"
   ]
  },
  {
   "cell_type": "code",
   "execution_count": 9,
   "id": "1c04828a-18da-4d0b-ac2b-6580a6cfa51e",
   "metadata": {},
   "outputs": [
    {
     "name": "stdout",
     "output_type": "stream",
     "text": [
      "Local kx shape: (32, 1, 1)\n",
      "Local ky shape: (1, 32, 1)\n",
      "Local nz shape: (1, 1, 32)\n"
     ]
    }
   ],
   "source": [
    "local_kx = dist.local_modes(xbasis)\n",
    "local_ky = dist.local_modes(ybasis)\n",
    "local_nz = dist.local_modes(zbasis)\n",
    "print('Local kx shape:', local_kx.shape)\n",
    "print('Local ky shape:', local_ky.shape)\n",
    "print('Local nz shape:', local_nz.shape)"
   ]
  }
 ],
 "metadata": {
  "kernelspec": {
   "display_name": "Python 3 (ipykernel)",
   "language": "python",
   "name": "python3"
  },
  "language_info": {
   "codemirror_mode": {
    "name": "ipython",
    "version": 3
   },
   "file_extension": ".py",
   "mimetype": "text/x-python",
   "name": "python",
   "nbconvert_exporter": "python",
   "pygments_lexer": "ipython3",
   "version": "3.13.1"
  }
 },
 "nbformat": 4,
 "nbformat_minor": 5
}
